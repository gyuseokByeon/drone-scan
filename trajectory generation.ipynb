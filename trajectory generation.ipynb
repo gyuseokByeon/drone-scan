{
 "cells": [
  {
   "cell_type": "markdown",
   "metadata": {},
   "source": [
    "## model fire distribution as a gaussian (just as an example - ofc it's a silly distribution)"
   ]
  },
  {
   "cell_type": "code",
   "execution_count": 17,
   "metadata": {},
   "outputs": [],
   "source": [
    "import numpy as np"
   ]
  },
  {
   "cell_type": "code",
   "execution_count": 40,
   "metadata": {},
   "outputs": [],
   "source": [
    "N_CELLS = 100\n",
    "x, y = np.meshgrid(np.linspace(-1,1,N_CELLS), np.linspace(-1,1,N_CELLS)) #100x100 cells\n",
    "d = np.sqrt(x*x+y*y)\n",
    "sigma, mu = 1.0, 0.0\n",
    "temp_mat = np.exp(-( (d-mu)**2 / ( 2.0 * sigma**2 ) ) )"
   ]
  },
  {
   "cell_type": "code",
   "execution_count": 41,
   "metadata": {},
   "outputs": [
    {
     "data": {
      "text/plain": [
       "<matplotlib.image.AxesImage at 0x7faff66bd908>"
      ]
     },
     "execution_count": 41,
     "metadata": {},
     "output_type": "execute_result"
    },
    {
     "data": {
      "image/png": "[encoded data removed]",
      "text/plain": [
       "<Figure size 432x288 with 1 Axes>"
      ]
     },
     "metadata": {
      "needs_background": "light"
     },
     "output_type": "display_data"
    }
   ],
   "source": [
    "import matplotlib.pyplot as plt\n",
    "plt.imshow(temp_mat)"
   ]
  },
  {
   "cell_type": "markdown",
   "metadata": {},
   "source": [
    "## Define mapping from the world frame to the discretized cell frame"
   ]
  },
  {
   "cell_type": "code",
   "execution_count": 156,
   "metadata": {},
   "outputs": [],
   "source": [
    "# taken from: https://www.researchgate.net/publication/224239584_Rectilinear_coordinate_frames_for_Deep_sea_navigation\n",
    "import math\n",
    "from math import cos\n",
    "\n",
    "class Space:\n",
    "    \n",
    "    def __init__(self, origin):\n",
    "        self.lat0 = origin[0]\n",
    "        self.lon0 = origin[1]\n",
    "        \n",
    "        lat0rad = math.radians(self.lat0)\n",
    "        self.mdeglon = (111415.13 * cos(lat0rad)\n",
    "                        - 94.55 * cos(3.0*lat0rad)\n",
    "                        - 0.12 * cos(5.0*lat0rad) )\n",
    "        \n",
    "        lat0rad = math.radians(self.lat0)\n",
    "        self.mdeglat = (111132.09 - 566.05 * cos(2.0*lat0rad)\n",
    "                        + 1.20 * cos(4.0*lat0rad)\n",
    "                        - 0.002 * cos(6.0*lat0rad))\n",
    "        \n",
    "        \n",
    "    def latlon2xy(self, lat, lon):\n",
    "        x = (lon-self.lon0) * self.mdeglon\n",
    "        y = (lat-self.lat0) * self.mdeglat\n",
    "        return (x, y)\n",
    "    \n",
    "    def xy2latlon(self, x, y):\n",
    "        lon = x/self.mdeglon + self.lon0;\n",
    "        lat = y/self.mdeglat + self.lat0;\n",
    "        return (lat, lon)\n"
   ]
  },
  {
   "cell_type": "code",
   "execution_count": 154,
   "metadata": {},
   "outputs": [
    {
     "data": {
      "text/plain": [
       "True"
      ]
     },
     "execution_count": 154,
     "metadata": {},
     "output_type": "execute_result"
    }
   ],
   "source": [
    "# sanity check\n",
    "sp = Space(origin=(37.531553, -121.882767))\n",
    "\n",
    "point1 = (37.331353, -121.882767)\n",
    "local = sp.latlon2xy(*point1) \n",
    "sp.xy2latlon(*local) == point1"
   ]
  },
  {
   "cell_type": "markdown",
   "metadata": {},
   "source": [
    "## Generate trajectory"
   ]
  },
  {
   "cell_type": "code",
   "execution_count": 47,
   "metadata": {},
   "outputs": [],
   "source": [
    "traj = []\n",
    "step = 10 # [grid step of 10m]\n",
    "for x in range(0,N_CELLS,step):\n",
    "    traj.append((x,0))\n",
    "    traj.append((x,100))\n",
    "    traj.append((x+step/2,100))\n",
    "    traj.append((x+step/2,0))"
   ]
  },
  {
   "cell_type": "code",
   "execution_count": 61,
   "metadata": {},
   "outputs": [
    {
     "data": {
      "text/plain": [
       "[<matplotlib.lines.Line2D at 0x7faff64ae630>]"
      ]
     },
     "execution_count": 61,
     "metadata": {},
     "output_type": "execute_result"
    },
    {
     "data": {
      "image/png": "[encoded data removed]",
      "text/plain": [
       "<Figure size 432x288 with 1 Axes>"
      ]
     },
     "metadata": {
      "needs_background": "light"
     },
     "output_type": "display_data"
    }
   ],
   "source": [
    "x_list = [p[0] for p in traj]\n",
    "y_list = [p[1] for p in traj]\n",
    "plt.plot(x_list, y_list)"
   ]
  },
  {
   "cell_type": "code",
   "execution_count": 155,
   "metadata": {},
   "outputs": [
    {
     "data": {
      "text/plain": [
       "[(37.531553, -121.882767),\n",
       " (37.53245402145403, -121.882767),\n",
       " (37.53245402145403, -121.8827104329287),\n",
       " (37.531553, -121.8827104329287),\n",
       " (37.531553, -121.88265386585739),\n",
       " (37.53245402145403, -121.88265386585739),\n",
       " (37.53245402145403, -121.8825972987861),\n",
       " (37.531553, -121.8825972987861),\n",
       " (37.531553, -121.8825407317148),\n",
       " (37.53245402145403, -121.8825407317148),\n",
       " (37.53245402145403, -121.8824841646435),\n",
       " (37.531553, -121.8824841646435),\n",
       " (37.531553, -121.88242759757219),\n",
       " (37.53245402145403, -121.88242759757219),\n",
       " (37.53245402145403, -121.88237103050089),\n",
       " (37.531553, -121.88237103050089),\n",
       " (37.531553, -121.8823144634296),\n",
       " (37.53245402145403, -121.8823144634296),\n",
       " (37.53245402145403, -121.8822578963583),\n",
       " (37.531553, -121.8822578963583),\n",
       " (37.531553, -121.88220132928699),\n",
       " (37.53245402145403, -121.88220132928699),\n",
       " (37.53245402145403, -121.88214476221569),\n",
       " (37.531553, -121.88214476221569),\n",
       " (37.531553, -121.88208819514439),\n",
       " (37.53245402145403, -121.88208819514439),\n",
       " (37.53245402145403, -121.8820316280731),\n",
       " (37.531553, -121.8820316280731),\n",
       " (37.531553, -121.88197506100178),\n",
       " (37.53245402145403, -121.88197506100178),\n",
       " (37.53245402145403, -121.88191849393048),\n",
       " (37.531553, -121.88191849393048),\n",
       " (37.531553, -121.88186192685919),\n",
       " (37.53245402145403, -121.88186192685919),\n",
       " (37.53245402145403, -121.88180535978789),\n",
       " (37.531553, -121.88180535978789),\n",
       " (37.531553, -121.88174879271658),\n",
       " (37.53245402145403, -121.88174879271658),\n",
       " (37.53245402145403, -121.88169222564528),\n",
       " (37.531553, -121.88169222564528)]"
      ]
     },
     "execution_count": 155,
     "metadata": {},
     "output_type": "execute_result"
    }
   ],
   "source": [
    "#get trajectory in global frame\n",
    "traj_global = list(map(lambda p: sp.xy2latlon(*p), traj))\n",
    "\n",
    "traj_global"
   ]
  }
 ],
 "metadata": {
  "kernelspec": {
   "display_name": "Python 3",
   "language": "python",
   "name": "python3"
  },
  "language_info": {
   "codemirror_mode": {
    "name": "ipython",
    "version": 3
   },
   "file_extension": ".py",
   "mimetype": "text/x-python",
   "name": "python",
   "nbconvert_exporter": "python",
   "pygments_lexer": "ipython3",
   "version": "3.6.8"
  }
 },
 "nbformat": 4,
 "nbformat_minor": 2
}
